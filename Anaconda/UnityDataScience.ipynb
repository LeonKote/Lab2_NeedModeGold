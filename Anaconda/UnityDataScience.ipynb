{
 "cells": [
  {
   "cell_type": "code",
   "execution_count": 46,
   "id": "d6b4ca40",
   "metadata": {},
   "outputs": [
    {
     "name": "stdout",
     "output_type": "stream",
     "text": [
      "800\n",
      "3400\n",
      "3600\n",
      "3200\n",
      "2500\n",
      "4100\n",
      "4550\n",
      "7700\n",
      "11150\n",
      "12450\n",
      "10150\n",
      "10300\n",
      "10700\n",
      "8700\n",
      "9750\n"
     ]
    }
   ],
   "source": [
    "import gspread\n",
    "import numpy as np\n",
    "gc = gspread.service_account(filename='unitydatascience-400416-98e6ba2ba08f.json')\n",
    "sh = gc.open(\"UnityWorkshop2\")\n",
    "money = 800\n",
    "for i in range(1, 16):\n",
    "    # На первом раунде всегда $800\n",
    "    if i == 1:\n",
    "        sh.sheet1.update(('A' + str(i)), str(i))\n",
    "        sh.sheet1.update(('B' + str(i)), str(money))\n",
    "        print(money)\n",
    "        continue\n",
    "    win = np.random.randint(2)\n",
    "    # За победу получаем $3250, за поражение - $1400\n",
    "    money += 3250 if win else 1400\n",
    "    # За каждое убийство можем получить по $300\n",
    "    money += np.random.randint(6) * 300\n",
    "    # Ограничение денег - $16000\n",
    "    money = min(money, 16000)\n",
    "    sh.sheet1.update(('A' + str(i)), str(i))\n",
    "    sh.sheet1.update(('B' + str(i)), str(money))\n",
    "    print(money)\n",
    "    # Закупаем основное оружие\n",
    "    if not win and money >= 2700:\n",
    "        money -= 2700\n",
    "    # Закупаем бронежилет\n",
    "    if money >= 1000:\n",
    "        money -= 1000"
   ]
  },
  {
   "cell_type": "code",
   "execution_count": null,
   "id": "40b47425",
   "metadata": {},
   "outputs": [],
   "source": []
  },
  {
   "cell_type": "code",
   "execution_count": null,
   "id": "2cf419dd",
   "metadata": {},
   "outputs": [],
   "source": []
  },
  {
   "cell_type": "code",
   "execution_count": null,
   "id": "1e7819c0",
   "metadata": {},
   "outputs": [],
   "source": []
  }
 ],
 "metadata": {
  "kernelspec": {
   "display_name": "Python 3 (ipykernel)",
   "language": "python",
   "name": "python3"
  },
  "language_info": {
   "codemirror_mode": {
    "name": "ipython",
    "version": 3
   },
   "file_extension": ".py",
   "mimetype": "text/x-python",
   "name": "python",
   "nbconvert_exporter": "python",
   "pygments_lexer": "ipython3",
   "version": "3.11.4"
  }
 },
 "nbformat": 4,
 "nbformat_minor": 5
}
